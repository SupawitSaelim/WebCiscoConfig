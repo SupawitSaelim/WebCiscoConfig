{
  "nbformat": 4,
  "nbformat_minor": 0,
  "metadata": {
    "colab": {
      "provenance": []
    },
    "kernelspec": {
      "name": "python3",
      "display_name": "Python 3"
    },
    "language_info": {
      "name": "python"
    }
  },
  "cells": [
    {
      "cell_type": "code",
      "execution_count": 1,
      "metadata": {
        "id": "t_6zm_vH2F_5"
      },
      "outputs": [],
      "source": [
        "import sqlite3\n",
        "\n",
        "# เชื่อมต่อกับไฟล์ฐานข้อมูล\n",
        "conn = sqlite3.connect('password_data.sqlite')\n",
        "cursor = conn.cursor()"
      ]
    },
    {
      "cell_type": "code",
      "source": [
        "import pandas as pd\n",
        "\n",
        "# อ่านข้อมูลจากตาราง\n",
        "query = \"SELECT * FROM users;\"\n",
        "df = pd.read_sql_query(query, conn)\n",
        "\n",
        "# แสดงข้อมูล\n",
        "print(df.head(10))"
      ],
      "metadata": {
        "colab": {
          "base_uri": "https://localhost:8080/"
        },
        "id": "jhE1cYdq2s3X",
        "outputId": "659e59fe-bfed-4d85-9485-6ce57124d174"
      },
      "execution_count": 2,
      "outputs": [
        {
          "output_type": "stream",
          "name": "stdout",
          "text": [
            "   index                 password  strength\n",
            "0      0                zxe870819         1\n",
            "1      1             xw46454nr23l         1\n",
            "2      2                soporte13         1\n",
            "3      3  accounts6000webhost.com         2\n",
            "4      4                 c443balg         1\n",
            "5      5                16623670p         1\n",
            "6      6                 yj9q3f8p         1\n",
            "7      7          180ZIRUVIcuFERy         2\n",
            "8      8                 djredd09         1\n",
            "9      9                yin172015         1\n"
          ]
        }
      ]
    },
    {
      "cell_type": "code",
      "source": [
        "# ลบคอลัมน์ 'index'\n",
        "df = df.drop('index', axis=1)\n",
        "\n",
        "# แสดงผลลัพธ์หลังจากลบคอลัมน์\n",
        "print(df.head(10))"
      ],
      "metadata": {
        "colab": {
          "base_uri": "https://localhost:8080/"
        },
        "id": "eaL_5Vf227Er",
        "outputId": "eee6a359-287d-4f82-d645-b97fbdc31cab"
      },
      "execution_count": 3,
      "outputs": [
        {
          "output_type": "stream",
          "name": "stdout",
          "text": [
            "                  password  strength\n",
            "0                zxe870819         1\n",
            "1             xw46454nr23l         1\n",
            "2                soporte13         1\n",
            "3  accounts6000webhost.com         2\n",
            "4                 c443balg         1\n",
            "5                16623670p         1\n",
            "6                 yj9q3f8p         1\n",
            "7          180ZIRUVIcuFERy         2\n",
            "8                 djredd09         1\n",
            "9                yin172015         1\n"
          ]
        }
      ]
    },
    {
      "cell_type": "code",
      "source": [
        "import joblib\n",
        "\n",
        "# โหลดโมเดล\n",
        "model = joblib.load('lr_model.pkl')\n",
        "\n",
        "# ตรวจสอบว่าโมเดลโหลดสำเร็จ\n",
        "print(type(model))"
      ],
      "metadata": {
        "colab": {
          "base_uri": "https://localhost:8080/"
        },
        "id": "O5QYjdKl28eq",
        "outputId": "d73f8910-c475-4d4f-a1ee-a95bc17e52a8"
      },
      "execution_count": 4,
      "outputs": [
        {
          "output_type": "stream",
          "name": "stdout",
          "text": [
            "<class 'sklearn.linear_model._logistic.LogisticRegression'>\n"
          ]
        }
      ]
    },
    {
      "cell_type": "code",
      "source": [
        "import string\n",
        "\n",
        "feature_order = ['length', 'uppercase', 'lowercase', 'digits', 'special_chars']\n",
        "\n",
        "def extract_features(password):\n",
        "    \"\"\"แปลงรหัสผ่านให้เป็นฟีเจอร์\"\"\"\n",
        "    features = {\n",
        "        'length': len(password),\n",
        "        'digits': sum(c.isdigit() for c in password),\n",
        "        'uppercase': sum(c.isupper() for c in password),\n",
        "        'lowercase': sum(c.islower() for c in password),\n",
        "        'special_chars': sum(c in string.punctuation for c in password),\n",
        "    }\n",
        "    return pd.Series(features)\n",
        "\n",
        "# แปลงข้อมูลทั้งหมดในคอลัมน์ 'password'\n",
        "feature_df = df['password'].apply(extract_features)\n",
        "feature_df = feature_df[feature_order]  # จัดเรียงคอลัมน์ตามลำดับที่โมเดลต้องการ"
      ],
      "metadata": {
        "id": "Ul2A3W2h3JTH"
      },
      "execution_count": 6,
      "outputs": []
    },
    {
      "cell_type": "code",
      "source": [
        "from sklearn.metrics import accuracy_score\n",
        "# ค่าจริงจากข้อมูล\n",
        "y_true = df['strength']  # สมมติว่าคอลัมน์ 'label' คือค่าจริง\n",
        "\n",
        "# ค่าที่โมเดลพยากรณ์\n",
        "y_pred = model.predict(feature_df)\n",
        "\n",
        "# คำนวณค่า accuracy\n",
        "accuracy = accuracy_score(y_true, y_pred)\n",
        "print(f\"Accuracy of the model on unseen data: {accuracy:.2f}\")"
      ],
      "metadata": {
        "colab": {
          "base_uri": "https://localhost:8080/"
        },
        "id": "JyNGng_z3zod",
        "outputId": "12432e27-c8af-41ff-bf7e-bf6fa80564b0"
      },
      "execution_count": 8,
      "outputs": [
        {
          "output_type": "stream",
          "name": "stdout",
          "text": [
            "Accuracy of the model on unseen data: 1.00\n"
          ]
        }
      ]
    }
  ]
}